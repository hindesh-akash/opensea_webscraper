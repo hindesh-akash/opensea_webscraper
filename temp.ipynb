{
 "cells": [
  {
   "cell_type": "code",
   "execution_count": null,
   "metadata": {},
   "outputs": [],
   "source": [
    "from selenium import webdriver\n",
    "from selenium.webdriver.chrome.service import Service\n",
    "from webdriver_manager.chrome import ChromeDriverManager\n",
    "from selenium.webdriver.common.by import By\n",
    "from selenium.webdriver.common.keys import Keys\n",
    "from selenium.webdriver.common.action_chains import ActionChains\n",
    "import time\n",
    "import pandas as pd\n",
    "from tqdm import tqdm\n",
    "import concurrent.futures"
   ]
  },
  {
   "cell_type": "code",
   "execution_count": null,
   "metadata": {},
   "outputs": [],
   "source": [
    "# Setting up the web-browser\n",
    "\n",
    "options = webdriver.ChromeOptions()\n",
    "options.add_experimental_option('excludeSwitches', ['enable-logging'])\n",
    "\n",
    "driver = webdriver.Chrome(service=Service(\n",
    "    ChromeDriverManager().install()), options=options)\n",
    "\n",
    "action = ActionChains(driver)"
   ]
  },
  {
   "cell_type": "code",
   "execution_count": null,
   "metadata": {},
   "outputs": [],
   "source": [
    "# Homepage url for NFT Collections\n",
    "\n",
    "homepage_url = 'https://opensea.io/collection/boredapeyachtclub/activity?search[eventTypes][0]=OFFER_ENTERED'"
   ]
  },
  {
   "cell_type": "code",
   "execution_count": null,
   "metadata": {},
   "outputs": [],
   "source": [
    "driver.get(url=homepage_url)\n"
   ]
  },
  {
   "cell_type": "code",
   "execution_count": null,
   "metadata": {},
   "outputs": [],
   "source": []
  },
  {
   "cell_type": "code",
   "execution_count": 276,
   "metadata": {},
   "outputs": [],
   "source": [
    "all_items = driver.find_elements(by=By.XPATH,value=\"//*[@role='listitem']\")"
   ]
  },
  {
   "cell_type": "code",
   "execution_count": 277,
   "metadata": {},
   "outputs": [
    {
     "data": {
      "text/plain": [
       "[<selenium.webdriver.remote.webelement.WebElement (session=\"c9b53e3a9a1251b744c22245fb45f32a\", element=\"1f0fb207-cb15-4a10-b05b-2e79df31252d\")>,\n",
       " <selenium.webdriver.remote.webelement.WebElement (session=\"c9b53e3a9a1251b744c22245fb45f32a\", element=\"2348e209-c581-4468-9d0a-0358f537c4b5\")>,\n",
       " <selenium.webdriver.remote.webelement.WebElement (session=\"c9b53e3a9a1251b744c22245fb45f32a\", element=\"0f481ede-626f-4fb4-9950-11f4cef0969e\")>,\n",
       " <selenium.webdriver.remote.webelement.WebElement (session=\"c9b53e3a9a1251b744c22245fb45f32a\", element=\"6f2b8394-9e47-4e9f-8494-c9d2e4a544a6\")>,\n",
       " <selenium.webdriver.remote.webelement.WebElement (session=\"c9b53e3a9a1251b744c22245fb45f32a\", element=\"06b3b07f-0bb3-48f6-b4e9-6e36a17854ef\")>,\n",
       " <selenium.webdriver.remote.webelement.WebElement (session=\"c9b53e3a9a1251b744c22245fb45f32a\", element=\"de22424a-15a6-428b-a37c-7df382bc5fba\")>,\n",
       " <selenium.webdriver.remote.webelement.WebElement (session=\"c9b53e3a9a1251b744c22245fb45f32a\", element=\"66391322-bb8c-44b2-98c2-6d3e39be4e71\")>,\n",
       " <selenium.webdriver.remote.webelement.WebElement (session=\"c9b53e3a9a1251b744c22245fb45f32a\", element=\"ca39eda7-6e28-438f-9d74-0547c96fccfa\")>,\n",
       " <selenium.webdriver.remote.webelement.WebElement (session=\"c9b53e3a9a1251b744c22245fb45f32a\", element=\"343b5808-1bb0-4938-b48b-34951e29224a\")>]"
      ]
     },
     "execution_count": 277,
     "metadata": {},
     "output_type": "execute_result"
    }
   ],
   "source": [
    "all_items"
   ]
  },
  {
   "cell_type": "code",
   "execution_count": null,
   "metadata": {},
   "outputs": [],
   "source": []
  },
  {
   "cell_type": "code",
   "execution_count": 278,
   "metadata": {},
   "outputs": [],
   "source": [
    "nft_name_class = 'sc-fe5f9c83-0 iFPiFs'\n",
    "nft_price_class = 'sc-fe5f9c83-0 mGAUR Price--amount'\n",
    "nft_price_usd_class = 'sc-fe5f9c83-0 mGAUR Price--fiat-amount'\n",
    "nft_offer_from_class = 'sc-1f719d57-0 hoTuIF sc-29427738-0 ikrGyo AccountLink--ellipsis-overflow'\n",
    "nft_qty_class = 'sc-fe5f9c83-0 mGAUR'\n"
   ]
  },
  {
   "cell_type": "code",
   "execution_count": 283,
   "metadata": {},
   "outputs": [
    {
     "data": {
      "text/plain": [
       "'4324'"
      ]
     },
     "execution_count": 283,
     "metadata": {},
     "output_type": "execute_result"
    }
   ],
   "source": [
    "all_items[8].find_element(by=By.XPATH,value=\"//*[@class='sc-fe5f9c83-0 iFPiFs']\").text"
   ]
  },
  {
   "cell_type": "code",
   "execution_count": 286,
   "metadata": {},
   "outputs": [],
   "source": [
    "hover_button = driver.find_elements(by=By.XPATH,value=\"//*[@class='sc-29427738-0 sc-c3ae1b73-0 ikrGyo hDtZvT']\")"
   ]
  },
  {
   "cell_type": "code",
   "execution_count": 287,
   "metadata": {},
   "outputs": [
    {
     "data": {
      "text/plain": [
       "9"
      ]
     },
     "execution_count": 287,
     "metadata": {},
     "output_type": "execute_result"
    }
   ],
   "source": [
    "len(all_items)"
   ]
  },
  {
   "cell_type": "code",
   "execution_count": 288,
   "metadata": {},
   "outputs": [
    {
     "data": {
      "text/plain": [
       "9"
      ]
     },
     "execution_count": 288,
     "metadata": {},
     "output_type": "execute_result"
    }
   ],
   "source": [
    "len(hover_button)"
   ]
  },
  {
   "cell_type": "code",
   "execution_count": 289,
   "metadata": {},
   "outputs": [],
   "source": [
    "action.move_to_element(hover_button[1]).click().perform()"
   ]
  },
  {
   "cell_type": "code",
   "execution_count": 290,
   "metadata": {},
   "outputs": [],
   "source": [
    "abs_time = driver.find_element(by=By.XPATH,value=\"//*[@class='sc-29427738-0 sc-c3ae1b73-0 ikrGyo hDtZvT']/div\")"
   ]
  },
  {
   "cell_type": "code",
   "execution_count": 291,
   "metadata": {},
   "outputs": [
    {
     "data": {
      "text/plain": [
       "'March 26, 2023 at 9:44 PM'"
      ]
     },
     "execution_count": 291,
     "metadata": {},
     "output_type": "execute_result"
    }
   ],
   "source": [
    "abs_time.text"
   ]
  },
  {
   "cell_type": "code",
   "execution_count": 292,
   "metadata": {},
   "outputs": [
    {
     "name": "stdout",
     "output_type": "stream",
     "text": [
      "1\n",
      "2\n",
      "3\n"
     ]
    }
   ],
   "source": [
    "z = [1,2,3]\n",
    "x = [5,6,7]\n",
    "\n",
    "for m in zip(z,x):\n",
    "    print(m[0])"
   ]
  },
  {
   "cell_type": "code",
   "execution_count": 323,
   "metadata": {},
   "outputs": [],
   "source": [
    "all_nfts_from_link = driver.find_elements(by=By.XPATH,value=\"//*[@class='sc-1f719d57-0 hoTuIF sc-29427738-0 ikrGyo AccountLink--ellipsis-overflow']\")"
   ]
  },
  {
   "cell_type": "code",
   "execution_count": 324,
   "metadata": {},
   "outputs": [
    {
     "data": {
      "text/plain": [
       "'https://opensea.io/Rasfueth'"
      ]
     },
     "execution_count": 324,
     "metadata": {},
     "output_type": "execute_result"
    }
   ],
   "source": [
    "all_nfts_from_link[1].get_attribute('href')"
   ]
  },
  {
   "cell_type": "code",
   "execution_count": 325,
   "metadata": {},
   "outputs": [
    {
     "data": {
      "text/plain": [
       "'Rasfueth'"
      ]
     },
     "execution_count": 325,
     "metadata": {},
     "output_type": "execute_result"
    }
   ],
   "source": [
    "all_nfts_from_link[1].text"
   ]
  },
  {
   "cell_type": "code",
   "execution_count": 322,
   "metadata": {},
   "outputs": [
    {
     "name": "stdout",
     "output_type": "stream",
     "text": [
      "5239\n",
      "March 26, 2023 at 9:56 PM\n",
      "5484\n",
      "March 26, 2023 at 9:44 PM\n",
      "4324\n",
      "March 26, 2023 at 10:17 PM\n",
      "1357\n",
      "March 26, 2023 at 10:16 PM\n",
      "1862\n",
      "March 26, 2023 at 10:15 PM\n",
      "8535\n",
      "March 26, 2023 at 10:16 PM\n",
      "4356\n",
      "March 26, 2023 at 10:18 PM\n",
      "4764\n",
      "March 26, 2023 at 10:17 PM\n"
     ]
    }
   ],
   "source": [
    "for i in range(8):\n",
    "    print(all_nfts[i].text)\n",
    "    action.move_to_element(hover_button[i]).click().perform()\n",
    "    abs_time = driver.find_element(by=By.XPATH,value=\"//*[@class='sc-29427738-0 sc-c3ae1b73-0 ikrGyo hDtZvT']/div\")\n",
    "    print(abs_time.text)\n",
    "    # time.sleep(0.5)\n",
    "\n",
    "    \n"
   ]
  },
  {
   "cell_type": "code",
   "execution_count": null,
   "metadata": {},
   "outputs": [],
   "source": []
  },
  {
   "cell_type": "code",
   "execution_count": 295,
   "metadata": {},
   "outputs": [
    {
     "ename": "WebDriverException",
     "evalue": "Message: disconnected: not connected to DevTools\n  (failed to check if window was closed: disconnected: not connected to DevTools)\n  (Session info: chrome=111.0.5563.65)\nStacktrace:\nBacktrace:\n\t(No symbol) [0x0108DCE3]\n\t(No symbol) [0x010239D1]\n\t(No symbol) [0x00F34DA8]\n\t(No symbol) [0x00F279A6]\n\t(No symbol) [0x00F276C9]\n\t(No symbol) [0x00F361B0]\n\t(No symbol) [0x00F8D0FC]\n\t(No symbol) [0x00F7ACC6]\n\t(No symbol) [0x00F56F68]\n\t(No symbol) [0x00F580CD]\n\tGetHandleVerifier [0x01303832+2506274]\n\tGetHandleVerifier [0x01339794+2727300]\n\tGetHandleVerifier [0x0133E36C+2746716]\n\tGetHandleVerifier [0x01136690+617600]\n\t(No symbol) [0x0102C712]\n\t(No symbol) [0x01031FF8]\n\t(No symbol) [0x010320DB]\n\t(No symbol) [0x0103C63B]\n\tBaseThreadInitThunk [0x75AD7D69+25]\n\tRtlInitializeExceptionChain [0x77DFB74B+107]\n\tRtlClearBits [0x77DFB6CF+191]\n",
     "output_type": "error",
     "traceback": [
      "\u001b[1;31m---------------------------------------------------------------------------\u001b[0m",
      "\u001b[1;31mWebDriverException\u001b[0m                        Traceback (most recent call last)",
      "\u001b[1;32me:\\Data Science Competetions\\ISB\\Task 3\\temp.ipynb Cell 20\u001b[0m in \u001b[0;36m<cell line: 1>\u001b[1;34m()\u001b[0m\n\u001b[1;32m----> <a href='vscode-notebook-cell:/e%3A/Data%20Science%20Competetions/ISB/Task%203/temp.ipynb#X40sZmlsZQ%3D%3D?line=0'>1</a>\u001b[0m \u001b[39mprint\u001b[39m(actual_time_2\u001b[39m.\u001b[39;49mget_attribute(\u001b[39m'\u001b[39;49m\u001b[39maria-expanded\u001b[39;49m\u001b[39m'\u001b[39;49m))\n\u001b[0;32m      <a href='vscode-notebook-cell:/e%3A/Data%20Science%20Competetions/ISB/Task%203/temp.ipynb#X40sZmlsZQ%3D%3D?line=1'>2</a>\u001b[0m driver\u001b[39m.\u001b[39mexecute_script(\u001b[39m\"\u001b[39m\u001b[39marguments[0].setAttribute(\u001b[39m\u001b[39m'\u001b[39m\u001b[39maria-expanded\u001b[39m\u001b[39m'\u001b[39m\u001b[39m, \u001b[39m\u001b[39m'\u001b[39m\u001b[39mtrue\u001b[39m\u001b[39m'\u001b[39m\u001b[39m)\u001b[39m\u001b[39m\"\u001b[39m, actual_time_2)\n\u001b[0;32m      <a href='vscode-notebook-cell:/e%3A/Data%20Science%20Competetions/ISB/Task%203/temp.ipynb#X40sZmlsZQ%3D%3D?line=2'>3</a>\u001b[0m \u001b[39mprint\u001b[39m(actual_time_2\u001b[39m.\u001b[39mget_attribute(\u001b[39m'\u001b[39m\u001b[39maria-expanded\u001b[39m\u001b[39m'\u001b[39m))\n",
      "File \u001b[1;32mc:\\Users\\hinde\\AppData\\Local\\Programs\\Python\\Python310\\lib\\site-packages\\selenium\\webdriver\\remote\\webelement.py:177\u001b[0m, in \u001b[0;36mWebElement.get_attribute\u001b[1;34m(self, name)\u001b[0m\n\u001b[0;32m    175\u001b[0m \u001b[39mif\u001b[39;00m getAttribute_js \u001b[39mis\u001b[39;00m \u001b[39mNone\u001b[39;00m:\n\u001b[0;32m    176\u001b[0m     _load_js()\n\u001b[1;32m--> 177\u001b[0m attribute_value \u001b[39m=\u001b[39m \u001b[39mself\u001b[39;49m\u001b[39m.\u001b[39;49mparent\u001b[39m.\u001b[39;49mexecute_script(\n\u001b[0;32m    178\u001b[0m     \u001b[39mf\u001b[39;49m\u001b[39m\"\u001b[39;49m\u001b[39m/* getAttribute */return (\u001b[39;49m\u001b[39m{\u001b[39;49;00mgetAttribute_js\u001b[39m}\u001b[39;49;00m\u001b[39m).apply(null, arguments);\u001b[39;49m\u001b[39m\"\u001b[39;49m, \u001b[39mself\u001b[39;49m, name\n\u001b[0;32m    179\u001b[0m )\n\u001b[0;32m    180\u001b[0m \u001b[39mreturn\u001b[39;00m attribute_value\n",
      "File \u001b[1;32mc:\\Users\\hinde\\AppData\\Local\\Programs\\Python\\Python310\\lib\\site-packages\\selenium\\webdriver\\remote\\webdriver.py:500\u001b[0m, in \u001b[0;36mWebDriver.execute_script\u001b[1;34m(self, script, *args)\u001b[0m\n\u001b[0;32m    497\u001b[0m converted_args \u001b[39m=\u001b[39m \u001b[39mlist\u001b[39m(args)\n\u001b[0;32m    498\u001b[0m command \u001b[39m=\u001b[39m Command\u001b[39m.\u001b[39mW3C_EXECUTE_SCRIPT\n\u001b[1;32m--> 500\u001b[0m \u001b[39mreturn\u001b[39;00m \u001b[39mself\u001b[39;49m\u001b[39m.\u001b[39;49mexecute(command, {\u001b[39m\"\u001b[39;49m\u001b[39mscript\u001b[39;49m\u001b[39m\"\u001b[39;49m: script, \u001b[39m\"\u001b[39;49m\u001b[39margs\u001b[39;49m\u001b[39m\"\u001b[39;49m: converted_args})[\u001b[39m\"\u001b[39m\u001b[39mvalue\u001b[39m\u001b[39m\"\u001b[39m]\n",
      "File \u001b[1;32mc:\\Users\\hinde\\AppData\\Local\\Programs\\Python\\Python310\\lib\\site-packages\\selenium\\webdriver\\remote\\webdriver.py:440\u001b[0m, in \u001b[0;36mWebDriver.execute\u001b[1;34m(self, driver_command, params)\u001b[0m\n\u001b[0;32m    438\u001b[0m response \u001b[39m=\u001b[39m \u001b[39mself\u001b[39m\u001b[39m.\u001b[39mcommand_executor\u001b[39m.\u001b[39mexecute(driver_command, params)\n\u001b[0;32m    439\u001b[0m \u001b[39mif\u001b[39;00m response:\n\u001b[1;32m--> 440\u001b[0m     \u001b[39mself\u001b[39;49m\u001b[39m.\u001b[39;49merror_handler\u001b[39m.\u001b[39;49mcheck_response(response)\n\u001b[0;32m    441\u001b[0m     response[\u001b[39m\"\u001b[39m\u001b[39mvalue\u001b[39m\u001b[39m\"\u001b[39m] \u001b[39m=\u001b[39m \u001b[39mself\u001b[39m\u001b[39m.\u001b[39m_unwrap_value(response\u001b[39m.\u001b[39mget(\u001b[39m\"\u001b[39m\u001b[39mvalue\u001b[39m\u001b[39m\"\u001b[39m, \u001b[39mNone\u001b[39;00m))\n\u001b[0;32m    442\u001b[0m     \u001b[39mreturn\u001b[39;00m response\n",
      "File \u001b[1;32mc:\\Users\\hinde\\AppData\\Local\\Programs\\Python\\Python310\\lib\\site-packages\\selenium\\webdriver\\remote\\errorhandler.py:245\u001b[0m, in \u001b[0;36mErrorHandler.check_response\u001b[1;34m(self, response)\u001b[0m\n\u001b[0;32m    243\u001b[0m         alert_text \u001b[39m=\u001b[39m value[\u001b[39m\"\u001b[39m\u001b[39malert\u001b[39m\u001b[39m\"\u001b[39m]\u001b[39m.\u001b[39mget(\u001b[39m\"\u001b[39m\u001b[39mtext\u001b[39m\u001b[39m\"\u001b[39m)\n\u001b[0;32m    244\u001b[0m     \u001b[39mraise\u001b[39;00m exception_class(message, screen, stacktrace, alert_text)  \u001b[39m# type: ignore[call-arg]  # mypy is not smart enough here\u001b[39;00m\n\u001b[1;32m--> 245\u001b[0m \u001b[39mraise\u001b[39;00m exception_class(message, screen, stacktrace)\n",
      "\u001b[1;31mWebDriverException\u001b[0m: Message: disconnected: not connected to DevTools\n  (failed to check if window was closed: disconnected: not connected to DevTools)\n  (Session info: chrome=111.0.5563.65)\nStacktrace:\nBacktrace:\n\t(No symbol) [0x0108DCE3]\n\t(No symbol) [0x010239D1]\n\t(No symbol) [0x00F34DA8]\n\t(No symbol) [0x00F279A6]\n\t(No symbol) [0x00F276C9]\n\t(No symbol) [0x00F361B0]\n\t(No symbol) [0x00F8D0FC]\n\t(No symbol) [0x00F7ACC6]\n\t(No symbol) [0x00F56F68]\n\t(No symbol) [0x00F580CD]\n\tGetHandleVerifier [0x01303832+2506274]\n\tGetHandleVerifier [0x01339794+2727300]\n\tGetHandleVerifier [0x0133E36C+2746716]\n\tGetHandleVerifier [0x01136690+617600]\n\t(No symbol) [0x0102C712]\n\t(No symbol) [0x01031FF8]\n\t(No symbol) [0x010320DB]\n\t(No symbol) [0x0103C63B]\n\tBaseThreadInitThunk [0x75AD7D69+25]\n\tRtlInitializeExceptionChain [0x77DFB74B+107]\n\tRtlClearBits [0x77DFB6CF+191]\n"
     ]
    }
   ],
   "source": [
    "print(actual_time_2.get_attribute('aria-expanded'))\n",
    "driver.execute_script(\"arguments[0].setAttribute('aria-expanded', 'true')\", actual_time_2)\n",
    "print(actual_time_2.get_attribute('aria-expanded'))"
   ]
  },
  {
   "cell_type": "code",
   "execution_count": null,
   "metadata": {},
   "outputs": [],
   "source": [
    "driver.execute_script(\"arguments[0].setAttribute('aria-expanded', 'true')\", actual_time)\n",
    "\n",
    "# Perform the hover action\n",
    "actual_time.click()\n",
    "\n",
    "# Find the element that contains the hovering data and scrape it\n",
    "hover_data_element = driver.find_element_by_xpath(\"//[@id='hover-data']\")\n",
    "hover_data = hover_data_element.text"
   ]
  },
  {
   "cell_type": "code",
   "execution_count": null,
   "metadata": {},
   "outputs": [],
   "source": []
  }
 ],
 "metadata": {
  "kernelspec": {
   "display_name": "Python 3",
   "language": "python",
   "name": "python3"
  },
  "language_info": {
   "codemirror_mode": {
    "name": "ipython",
    "version": 3
   },
   "file_extension": ".py",
   "mimetype": "text/x-python",
   "name": "python",
   "nbconvert_exporter": "python",
   "pygments_lexer": "ipython3",
   "version": "3.10.2"
  },
  "orig_nbformat": 4
 },
 "nbformat": 4,
 "nbformat_minor": 2
}
