{
	"0": {
		"metadata": {
			"originalError": {
				"ename": "AttributeError",
				"evalue": "'WebElement' object has no attribute 'json'",
				"output_type": "error",
				"traceback": [
					"\u001b[1;31m---------------------------------------------------------------------------\u001b[0m",
					"\u001b[1;31mAttributeError\u001b[0m                            Traceback (most recent call last)",
					"\u001b[1;32me:\\Data Science Competetions\\ISB\\Task 3\\scrapr_v3.ipynb Cell 10\u001b[0m in \u001b[0;36m<cell line: 1>\u001b[1;34m()\u001b[0m\n\u001b[0;32m      <a href='vscode-notebook-cell:/e%3A/Data%20Science%20Competetions/ISB/Task%203/scrapr_v3.ipynb#X22sZmlsZQ%3D%3D?line=0'>1</a>\u001b[0m \u001b[39mfor\u001b[39;00m i \u001b[39min\u001b[39;00m \u001b[39mrange\u001b[39m(\u001b[39mlen\u001b[39m(all_nfts)):\n\u001b[0;32m      <a href='vscode-notebook-cell:/e%3A/Data%20Science%20Competetions/ISB/Task%203/scrapr_v3.ipynb#X22sZmlsZQ%3D%3D?line=1'>2</a>\u001b[0m     nft \u001b[39m=\u001b[39m all_nfts[i]\n\u001b[1;32m----> <a href='vscode-notebook-cell:/e%3A/Data%20Science%20Competetions/ISB/Task%203/scrapr_v3.ipynb#X22sZmlsZQ%3D%3D?line=2'>3</a>\u001b[0m     \u001b[39mprint\u001b[39m(nft\u001b[39m.\u001b[39;49mjson)\n\u001b[0;32m      <a href='vscode-notebook-cell:/e%3A/Data%20Science%20Competetions/ISB/Task%203/scrapr_v3.ipynb#X22sZmlsZQ%3D%3D?line=3'>4</a>\u001b[0m     \u001b[39mprint\u001b[39m(nft\u001b[39m.\u001b[39mfind_element(by\u001b[39m=\u001b[39mBy\u001b[39m.\u001b[39mXPATH,value\u001b[39m=\u001b[39m\u001b[39m\"\u001b[39m\u001b[39m//*[@class=\u001b[39m\u001b[39m'\u001b[39m\u001b[39msc-1f719d57-0 hoTuIF sc-29427738-0 ikrGyo AccountLink--ellipsis-overflow\u001b[39m\u001b[39m'\u001b[39m\u001b[39m]\u001b[39m\u001b[39m\"\u001b[39m)\u001b[39m.\u001b[39mget_attribute(\u001b[39m'\u001b[39m\u001b[39mhref\u001b[39m\u001b[39m'\u001b[39m))\n\u001b[0;32m      <a href='vscode-notebook-cell:/e%3A/Data%20Science%20Competetions/ISB/Task%203/scrapr_v3.ipynb#X22sZmlsZQ%3D%3D?line=4'>5</a>\u001b[0m     \u001b[39mprint\u001b[39m(\u001b[39m\"\u001b[39m\u001b[39m-------------------------\u001b[39m\u001b[39m\"\u001b[39m)\n",
					"\u001b[1;31mAttributeError\u001b[0m: 'WebElement' object has no attribute 'json'"
				]
			},
			"outputType": "error"
		},
		"outputItems": [
			{
				"data": "{\n\t\"name\": \"AttributeError\",\n\t\"message\": \"'WebElement' object has no attribute 'json'\",\n\t\"stack\": \"\\u001b[1;31m---------------------------------------------------------------------------\\u001b[0m\\n\\u001b[1;31mAttributeError\\u001b[0m                            Traceback (most recent call last)\\n\\u001b[1;32me:\\\\Data Science Competetions\\\\ISB\\\\Task 3\\\\scrapr_v3.ipynb Cell 10\\u001b[0m in \\u001b[0;36m<cell line: 1>\\u001b[1;34m()\\u001b[0m\\n\\u001b[0;32m      <a href='vscode-notebook-cell:/e%3A/Data%20Science%20Competetions/ISB/Task%203/scrapr_v3.ipynb#X22sZmlsZQ%3D%3D?line=0'>1</a>\\u001b[0m \\u001b[39mfor\\u001b[39;00m i \\u001b[39min\\u001b[39;00m \\u001b[39mrange\\u001b[39m(\\u001b[39mlen\\u001b[39m(all_nfts)):\\n\\u001b[0;32m      <a href='vscode-notebook-cell:/e%3A/Data%20Science%20Competetions/ISB/Task%203/scrapr_v3.ipynb#X22sZmlsZQ%3D%3D?line=1'>2</a>\\u001b[0m     nft \\u001b[39m=\\u001b[39m all_nfts[i]\\n\\u001b[1;32m----> <a href='vscode-notebook-cell:/e%3A/Data%20Science%20Competetions/ISB/Task%203/scrapr_v3.ipynb#X22sZmlsZQ%3D%3D?line=2'>3</a>\\u001b[0m     \\u001b[39mprint\\u001b[39m(nft\\u001b[39m.\\u001b[39;49mjson)\\n\\u001b[0;32m      <a href='vscode-notebook-cell:/e%3A/Data%20Science%20Competetions/ISB/Task%203/scrapr_v3.ipynb#X22sZmlsZQ%3D%3D?line=3'>4</a>\\u001b[0m     \\u001b[39mprint\\u001b[39m(nft\\u001b[39m.\\u001b[39mfind_element(by\\u001b[39m=\\u001b[39mBy\\u001b[39m.\\u001b[39mXPATH,value\\u001b[39m=\\u001b[39m\\u001b[39m\\\"\\u001b[39m\\u001b[39m//*[@class=\\u001b[39m\\u001b[39m'\\u001b[39m\\u001b[39msc-1f719d57-0 hoTuIF sc-29427738-0 ikrGyo AccountLink--ellipsis-overflow\\u001b[39m\\u001b[39m'\\u001b[39m\\u001b[39m]\\u001b[39m\\u001b[39m\\\"\\u001b[39m)\\u001b[39m.\\u001b[39mget_attribute(\\u001b[39m'\\u001b[39m\\u001b[39mhref\\u001b[39m\\u001b[39m'\\u001b[39m))\\n\\u001b[0;32m      <a href='vscode-notebook-cell:/e%3A/Data%20Science%20Competetions/ISB/Task%203/scrapr_v3.ipynb#X22sZmlsZQ%3D%3D?line=4'>5</a>\\u001b[0m     \\u001b[39mprint\\u001b[39m(\\u001b[39m\\\"\\u001b[39m\\u001b[39m-------------------------\\u001b[39m\\u001b[39m\\\"\\u001b[39m)\\n\\n\\u001b[1;31mAttributeError\\u001b[0m: 'WebElement' object has no attribute 'json'\"\n}",
				"mimeType": "application/vnd.code.notebook.error"
			}
		]
	},
	"cells": [
		{
			"cell_type": "code",
			"execution_count": 258,
			"metadata": {},
			"outputs": [],
			"source": [
				"from selenium import webdriver\n",
				"from selenium.webdriver.chrome.service import Service\n",
				"from webdriver_manager.chrome import ChromeDriverManager\n",
				"from selenium.webdriver.common.by import By\n",
				"from selenium.webdriver.common.keys import Keys\n",
				"from selenium.webdriver.common.action_chains import ActionChains\n",
				"from selenium.common.exceptions import *\n",
				"import time\n",
				"import pandas as pd\n",
				"from tqdm import tqdm\n",
				"import concurrent.futures\n",
				"import numpy as np\n",
				"from selenium.webdriver.support.ui import WebDriverWait\n",
				"from selenium.webdriver.support import expected_conditions as EC"
			]
		},
		{
			"cell_type": "code",
			"execution_count": 259,
			"metadata": {},
			"outputs": [],
			"source": [
				"# Setting up the web-browser\n",
				"\n",
				"options = webdriver.ChromeOptions()\n",
				"options.add_experimental_option('excludeSwitches', ['enable-logging'])\n",
				"\n",
				"driver = webdriver.Chrome(service=Service(\n",
				"    ChromeDriverManager().install()), options=options)\n",
				"\n",
				"action = ActionChains(driver)"
			]
		},
		{
			"cell_type": "code",
			"execution_count": 248,
			"metadata": {},
			"outputs": [],
			"source": [
				"# Homepage url for NFT Collections\n",
				"\n",
				"homepage_url = 'https://opensea.io/collection/boredapeyachtclub/activity?search[eventTypes][0]=OFFER_ENTERED'"
			]
		},
		{
			"cell_type": "code",
			"execution_count": 260,
			"metadata": {},
			"outputs": [],
			"source": [
				"df = pd.DataFrame(columns=['nft_id','price_crypto','price_usd','quantity','offer_from_name','offer_from_link','time_uploaded'])"
			]
		},
		{
			"cell_type": "code",
			"execution_count": 261,
			"metadata": {},
			"outputs": [
				{
					"data": {
						"text/html": [
							"<div>\n",
							"<style scoped>\n",
							"    .dataframe tbody tr th:only-of-type {\n",
							"        vertical-align: middle;\n",
							"    }\n",
							"\n",
							"    .dataframe tbody tr th {\n",
							"        vertical-align: top;\n",
							"    }\n",
							"\n",
							"    .dataframe thead th {\n",
							"        text-align: right;\n",
							"    }\n",
							"</style>\n",
							"<table border=\"1\" class=\"dataframe\">\n",
							"  <thead>\n",
							"    <tr style=\"text-align: right;\">\n",
							"      <th></th>\n",
							"      <th>nft_id</th>\n",
							"      <th>price_crypto</th>\n",
							"      <th>price_usd</th>\n",
							"      <th>quantity</th>\n",
							"      <th>offer_from_name</th>\n",
							"      <th>offer_from_link</th>\n",
							"      <th>time_uploaded</th>\n",
							"    </tr>\n",
							"  </thead>\n",
							"  <tbody>\n",
							"  </tbody>\n",
							"</table>\n",
							"</div>"
						],
						"text/plain": [
							"Empty DataFrame\n",
							"Columns: [nft_id, price_crypto, price_usd, quantity, offer_from_name, offer_from_link, time_uploaded]\n",
							"Index: []"
						]
					},
					"execution_count": 261,
					"metadata": {},
					"output_type": "execute_result"
				}
			],
			"source": [
				"df"
			]
		},
		{
			"cell_type": "code",
			"execution_count": 262,
			"metadata": {},
			"outputs": [],
			"source": [
				"# Getting the webpage till bottom\n",
				"def get_data(url):\n",
				"\n",
				"    \n",
				"    driver.maximize_window()\n",
				"    n = 0\n",
				"    driver.implicitly_wait(3)\n",
				"    # Wait for the page to load\n",
				"    wait = WebDriverWait(driver, 4)\n",
				"\n",
				"    height = driver.execute_script('return document.body.scrollHeight;')\n",
				"    all_items= driver.find_elements(by=By.XPATH,value=\"//*[@role='listitem']\")\n",
				"    hover_button= driver.find_elements(by=By.XPATH,value=\"//*[@class='sc-29427738-0 sc-f95e0497-0 ikrGyo frmfzd']\") #sc-29427738-0 sc-f95e0497-0 ikrGyo frmfzd      \n",
				"\n",
				"    for i in range(len(all_items)):\n",
				"        items_list = all_items[i].text.split('\\n')\n",
				"        item_link = all_items[i].find_element(by=By.XPATH,value=\"//*[@class='sc-1f719d57-0 hoTuIF sc-29427738-0 ikrGyo AccountLink--ellipsis-overflow']\").get_attribute('href')\n",
				"        action.move_to_element(hover_button[i]).click().perform()\n",
				"        abs_time = driver.find_element(by=By.XPATH,value=\"//*[@class='sc-29427738-0 sc-f95e0497-0 ikrGyo frmfzd']/div\").text\n",
				"        \n",
				"        #Enter the extracted data into dataframe\n",
				"        df.loc[i] = [items_list[1],items_list[3],items_list[4],items_list[6],item_link,items_list[7],abs_time]\n",
				"        # print(\"************************\")\n",
				"\n",
				"    \n",
				"    driver.execute_script('window.scrollTo(0,document.body.scrollHeight);')\n",
				"    time.sleep(3)\n",
				"\n",
				"    all_items= driver.find_elements(by=By.XPATH,value=\"//*[@role='sc-29427738-0 sc-4e15afd9-0 dVNeWL kcFcYa']\")\n",
				"    hover_button= driver.find_elements(by=By.XPATH,value=\"//*[@class='sc-29427738-0 sc-f95e0497-0 ikrGyo frmfzd']\")\n",
				"    print(\"Hover but: \",hover_button)\n",
				"    \n",
				"    try:\n",
				"        pos = len(df)\n",
				"        for k in range(len(all_items)):\n",
				"            items_list = all_items[k].text.split('\\n')\n",
				"            item_link = all_items[k].find_element(by=By.XPATH,value=\"//*[@class='sc-1f719d57-0 hoTuIF sc-29427738-0 ikrGyo AccountLink--ellipsis-overflow']\").get_attribute('href')\n",
				"            action.move_to_element(hover_button[k]).click().perform()\n",
				"            abs_time = driver.find_element(by=By.XPATH,value=\"//*[@class='sc-29427738-0 sc-f95e0497-0 ikrGyo frmfzd']/div\").text\n",
				"            \n",
				"            #Enter the extracted data into dataframe\n",
				"            df.loc[pos+k] = [items_list[1],items_list[3],items_list[4],items_list[6],item_link,items_list[7],abs_time]\n",
				"       \n",
				"\n",
				"    except StaleElementReferenceException:\n",
				"        pass\n",
				"    \n",
				"    "
			]
		},
		{
			"cell_type": "code",
			"execution_count": 265,
			"metadata": {},
			"outputs": [],
			"source": [
				"driver.get(homepage_url)"
			]
		},
		{
			"cell_type": "code",
			"execution_count": 266,
			"metadata": {},
			"outputs": [
				{
					"name": "stdout",
					"output_type": "stream",
					"text": [
						"Hover but:  [<selenium.webdriver.remote.webelement.WebElement (session=\"0e3b255a5546e6c85f50205d8be5b227\", element=\"819dfb9f-8712-4e4e-8e42-db4e91cbb083\")>, <selenium.webdriver.remote.webelement.WebElement (session=\"0e3b255a5546e6c85f50205d8be5b227\", element=\"84d3e353-c1d3-4569-9b94-f5fef0c160fb\")>, <selenium.webdriver.remote.webelement.WebElement (session=\"0e3b255a5546e6c85f50205d8be5b227\", element=\"3f984511-daef-415c-b539-49e6bcce3d5d\")>, <selenium.webdriver.remote.webelement.WebElement (session=\"0e3b255a5546e6c85f50205d8be5b227\", element=\"1ec9b021-9c85-44ee-8e94-ef9def389f7c\")>, <selenium.webdriver.remote.webelement.WebElement (session=\"0e3b255a5546e6c85f50205d8be5b227\", element=\"fb4df01a-6972-4760-92ab-0010897178e5\")>, <selenium.webdriver.remote.webelement.WebElement (session=\"0e3b255a5546e6c85f50205d8be5b227\", element=\"97132cb3-5c23-47ae-8c34-fc0f82ad0006\")>, <selenium.webdriver.remote.webelement.WebElement (session=\"0e3b255a5546e6c85f50205d8be5b227\", element=\"09947687-dfd8-443b-afc8-a50ab7d8f260\")>, <selenium.webdriver.remote.webelement.WebElement (session=\"0e3b255a5546e6c85f50205d8be5b227\", element=\"c5622363-3100-4839-945f-f4e16320c469\")>, <selenium.webdriver.remote.webelement.WebElement (session=\"0e3b255a5546e6c85f50205d8be5b227\", element=\"6f11cc96-db0d-423e-948f-1905ea8eac02\")>, <selenium.webdriver.remote.webelement.WebElement (session=\"0e3b255a5546e6c85f50205d8be5b227\", element=\"1d8a77c5-75cc-4483-8a59-6473c57ae37e\")>, <selenium.webdriver.remote.webelement.WebElement (session=\"0e3b255a5546e6c85f50205d8be5b227\", element=\"2ba95ed3-22ac-4476-b3e4-a80059dae9be\")>, <selenium.webdriver.remote.webelement.WebElement (session=\"0e3b255a5546e6c85f50205d8be5b227\", element=\"d4c9eeca-faf9-47ea-bd04-45b72a4e44fe\")>, <selenium.webdriver.remote.webelement.WebElement (session=\"0e3b255a5546e6c85f50205d8be5b227\", element=\"4e0e7fc3-4e4e-45b5-873f-c31c39a0be44\")>, <selenium.webdriver.remote.webelement.WebElement (session=\"0e3b255a5546e6c85f50205d8be5b227\", element=\"781a08cb-4a24-436a-bfdc-e0a7aec51e12\")>]\n"
					]
				}
			],
			"source": [
				"get_data(homepage_url)"
			]
		},
		{
			"cell_type": "code",
			"execution_count": 267,
			"metadata": {},
			"outputs": [
				{
					"data": {
						"text/html": [
							"<div>\n",
							"<style scoped>\n",
							"    .dataframe tbody tr th:only-of-type {\n",
							"        vertical-align: middle;\n",
							"    }\n",
							"\n",
							"    .dataframe tbody tr th {\n",
							"        vertical-align: top;\n",
							"    }\n",
							"\n",
							"    .dataframe thead th {\n",
							"        text-align: right;\n",
							"    }\n",
							"</style>\n",
							"<table border=\"1\" class=\"dataframe\">\n",
							"  <thead>\n",
							"    <tr style=\"text-align: right;\">\n",
							"      <th></th>\n",
							"      <th>nft_id</th>\n",
							"      <th>price_crypto</th>\n",
							"      <th>price_usd</th>\n",
							"      <th>quantity</th>\n",
							"      <th>offer_from_name</th>\n",
							"      <th>offer_from_link</th>\n",
							"      <th>time_uploaded</th>\n",
							"    </tr>\n",
							"  </thead>\n",
							"  <tbody>\n",
							"    <tr>\n",
							"      <th>0</th>\n",
							"      <td>2665</td>\n",
							"      <td>61.0616 WETH</td>\n",
							"      <td>$111,274.39</td>\n",
							"      <td>1</td>\n",
							"      <td>https://opensea.io/NFTButlerGPT</td>\n",
							"      <td>NFTButlerGPT</td>\n",
							"      <td>March 30, 2023 at 10:38 AM</td>\n",
							"    </tr>\n",
							"    <tr>\n",
							"      <th>1</th>\n",
							"      <td>417</td>\n",
							"      <td>62.0033 WETH</td>\n",
							"      <td>$112,990.49</td>\n",
							"      <td>1</td>\n",
							"      <td>https://opensea.io/NFTButlerGPT</td>\n",
							"      <td>NFTButlerGPT</td>\n",
							"      <td>March 30, 2023 at 10:37 AM</td>\n",
							"    </tr>\n",
							"    <tr>\n",
							"      <th>2</th>\n",
							"      <td>9734</td>\n",
							"      <td>62.0033 WETH</td>\n",
							"      <td>$112,990.49</td>\n",
							"      <td>1</td>\n",
							"      <td>https://opensea.io/NFTButlerGPT</td>\n",
							"      <td>NFTButlerGPT</td>\n",
							"      <td>March 30, 2023 at 10:37 AM</td>\n",
							"    </tr>\n",
							"    <tr>\n",
							"      <th>3</th>\n",
							"      <td>8834</td>\n",
							"      <td>61.0616 WETH</td>\n",
							"      <td>$111,274.39</td>\n",
							"      <td>1</td>\n",
							"      <td>https://opensea.io/NFTButlerGPT</td>\n",
							"      <td>NFTButlerGPT</td>\n",
							"      <td>March 30, 2023 at 10:37 AM</td>\n",
							"    </tr>\n",
							"    <tr>\n",
							"      <th>4</th>\n",
							"      <td>235</td>\n",
							"      <td>62.5033 WETH</td>\n",
							"      <td>$113,901.64</td>\n",
							"      <td>1</td>\n",
							"      <td>https://opensea.io/NFTButlerGPT</td>\n",
							"      <td>NFTButlerGPT</td>\n",
							"      <td>March 30, 2023 at 10:37 AM</td>\n",
							"    </tr>\n",
							"    <tr>\n",
							"      <th>5</th>\n",
							"      <td>2458</td>\n",
							"      <td>61.0616 WETH</td>\n",
							"      <td>$111,274.39</td>\n",
							"      <td>1</td>\n",
							"      <td>https://opensea.io/NFTButlerGPT</td>\n",
							"      <td>NFTButlerGPT</td>\n",
							"      <td>March 30, 2023 at 10:37 AM</td>\n",
							"    </tr>\n",
							"    <tr>\n",
							"      <th>6</th>\n",
							"      <td>520</td>\n",
							"      <td>62.0033 WETH</td>\n",
							"      <td>$112,990.49</td>\n",
							"      <td>1</td>\n",
							"      <td>https://opensea.io/NFTButlerGPT</td>\n",
							"      <td>NFTButlerGPT</td>\n",
							"      <td>March 30, 2023 at 10:38 AM</td>\n",
							"    </tr>\n",
							"    <tr>\n",
							"      <th>7</th>\n",
							"      <td>9435</td>\n",
							"      <td>61.0616 WETH</td>\n",
							"      <td>$111,274.39</td>\n",
							"      <td>1</td>\n",
							"      <td>https://opensea.io/NFTButlerGPT</td>\n",
							"      <td>NFTButlerGPT</td>\n",
							"      <td>March 30, 2023 at 10:38 AM</td>\n",
							"    </tr>\n",
							"    <tr>\n",
							"      <th>8</th>\n",
							"      <td>215</td>\n",
							"      <td>60.020 WETH</td>\n",
							"      <td>$109,376.25</td>\n",
							"      <td>1</td>\n",
							"      <td>https://opensea.io/NFTButlerGPT</td>\n",
							"      <td>icebreaker-CheaperLin...</td>\n",
							"      <td>March 30, 2023 at 10:43 AM</td>\n",
							"    </tr>\n",
							"  </tbody>\n",
							"</table>\n",
							"</div>"
						],
						"text/plain": [
							"  nft_id  price_crypto    price_usd quantity                  offer_from_name  \\\n",
							"0   2665  61.0616 WETH  $111,274.39        1  https://opensea.io/NFTButlerGPT   \n",
							"1    417  62.0033 WETH  $112,990.49        1  https://opensea.io/NFTButlerGPT   \n",
							"2   9734  62.0033 WETH  $112,990.49        1  https://opensea.io/NFTButlerGPT   \n",
							"3   8834  61.0616 WETH  $111,274.39        1  https://opensea.io/NFTButlerGPT   \n",
							"4    235  62.5033 WETH  $113,901.64        1  https://opensea.io/NFTButlerGPT   \n",
							"5   2458  61.0616 WETH  $111,274.39        1  https://opensea.io/NFTButlerGPT   \n",
							"6    520  62.0033 WETH  $112,990.49        1  https://opensea.io/NFTButlerGPT   \n",
							"7   9435  61.0616 WETH  $111,274.39        1  https://opensea.io/NFTButlerGPT   \n",
							"8    215   60.020 WETH  $109,376.25        1  https://opensea.io/NFTButlerGPT   \n",
							"\n",
							"            offer_from_link               time_uploaded  \n",
							"0              NFTButlerGPT  March 30, 2023 at 10:38 AM  \n",
							"1              NFTButlerGPT  March 30, 2023 at 10:37 AM  \n",
							"2              NFTButlerGPT  March 30, 2023 at 10:37 AM  \n",
							"3              NFTButlerGPT  March 30, 2023 at 10:37 AM  \n",
							"4              NFTButlerGPT  March 30, 2023 at 10:37 AM  \n",
							"5              NFTButlerGPT  March 30, 2023 at 10:37 AM  \n",
							"6              NFTButlerGPT  March 30, 2023 at 10:38 AM  \n",
							"7              NFTButlerGPT  March 30, 2023 at 10:38 AM  \n",
							"8  icebreaker-CheaperLin...  March 30, 2023 at 10:43 AM  "
						]
					},
					"execution_count": 267,
					"metadata": {},
					"output_type": "execute_result"
				}
			],
			"source": [
				"df"
			]
		},
		{
			"cell_type": "code",
			"execution_count": 268,
			"metadata": {},
			"outputs": [],
			"source": [
				"df.to_csv('data_opensea.csv')"
			]
		},
		{
			"cell_type": "code",
			"execution_count": null,
			"metadata": {},
			"outputs": [],
			"source": []
		}
	],
	"metadata": {
		"kernelspec": {
			"display_name": "Python 3",
			"language": "python",
			"name": "python3"
		},
		"language_info": {
			"codemirror_mode": {
				"name": "ipython",
				"version": 3
			},
			"file_extension": ".py",
			"mimetype": "text/x-python",
			"name": "python",
			"nbconvert_exporter": "python",
			"pygments_lexer": "ipython3",
			"version": "3.10.2"
		},
		"orig_nbformat": 4
	},
	"nbformat": 4,
	"nbformat_minor": 2
}
