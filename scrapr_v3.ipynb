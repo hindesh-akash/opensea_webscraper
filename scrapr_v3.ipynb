{
	"0": {
		"metadata": {
			"originalError": {
				"ename": "AttributeError",
				"evalue": "'WebElement' object has no attribute 'json'",
				"output_type": "error",
				"traceback": [
					"\u001b[1;31m---------------------------------------------------------------------------\u001b[0m",
					"\u001b[1;31mAttributeError\u001b[0m                            Traceback (most recent call last)",
					"\u001b[1;32me:\\Data Science Competetions\\ISB\\Task 3\\scrapr_v3.ipynb Cell 10\u001b[0m in \u001b[0;36m<cell line: 1>\u001b[1;34m()\u001b[0m\n\u001b[0;32m      <a href='vscode-notebook-cell:/e%3A/Data%20Science%20Competetions/ISB/Task%203/scrapr_v3.ipynb#X22sZmlsZQ%3D%3D?line=0'>1</a>\u001b[0m \u001b[39mfor\u001b[39;00m i \u001b[39min\u001b[39;00m \u001b[39mrange\u001b[39m(\u001b[39mlen\u001b[39m(all_nfts)):\n\u001b[0;32m      <a href='vscode-notebook-cell:/e%3A/Data%20Science%20Competetions/ISB/Task%203/scrapr_v3.ipynb#X22sZmlsZQ%3D%3D?line=1'>2</a>\u001b[0m     nft \u001b[39m=\u001b[39m all_nfts[i]\n\u001b[1;32m----> <a href='vscode-notebook-cell:/e%3A/Data%20Science%20Competetions/ISB/Task%203/scrapr_v3.ipynb#X22sZmlsZQ%3D%3D?line=2'>3</a>\u001b[0m     \u001b[39mprint\u001b[39m(nft\u001b[39m.\u001b[39;49mjson)\n\u001b[0;32m      <a href='vscode-notebook-cell:/e%3A/Data%20Science%20Competetions/ISB/Task%203/scrapr_v3.ipynb#X22sZmlsZQ%3D%3D?line=3'>4</a>\u001b[0m     \u001b[39mprint\u001b[39m(nft\u001b[39m.\u001b[39mfind_element(by\u001b[39m=\u001b[39mBy\u001b[39m.\u001b[39mXPATH,value\u001b[39m=\u001b[39m\u001b[39m\"\u001b[39m\u001b[39m//*[@class=\u001b[39m\u001b[39m'\u001b[39m\u001b[39msc-1f719d57-0 hoTuIF sc-29427738-0 ikrGyo AccountLink--ellipsis-overflow\u001b[39m\u001b[39m'\u001b[39m\u001b[39m]\u001b[39m\u001b[39m\"\u001b[39m)\u001b[39m.\u001b[39mget_attribute(\u001b[39m'\u001b[39m\u001b[39mhref\u001b[39m\u001b[39m'\u001b[39m))\n\u001b[0;32m      <a href='vscode-notebook-cell:/e%3A/Data%20Science%20Competetions/ISB/Task%203/scrapr_v3.ipynb#X22sZmlsZQ%3D%3D?line=4'>5</a>\u001b[0m     \u001b[39mprint\u001b[39m(\u001b[39m\"\u001b[39m\u001b[39m-------------------------\u001b[39m\u001b[39m\"\u001b[39m)\n",
					"\u001b[1;31mAttributeError\u001b[0m: 'WebElement' object has no attribute 'json'"
				]
			},
			"outputType": "error"
		},
		"outputItems": [
			{
				"data": "{\n\t\"name\": \"AttributeError\",\n\t\"message\": \"'WebElement' object has no attribute 'json'\",\n\t\"stack\": \"\\u001b[1;31m---------------------------------------------------------------------------\\u001b[0m\\n\\u001b[1;31mAttributeError\\u001b[0m                            Traceback (most recent call last)\\n\\u001b[1;32me:\\\\Data Science Competetions\\\\ISB\\\\Task 3\\\\scrapr_v3.ipynb Cell 10\\u001b[0m in \\u001b[0;36m<cell line: 1>\\u001b[1;34m()\\u001b[0m\\n\\u001b[0;32m      <a href='vscode-notebook-cell:/e%3A/Data%20Science%20Competetions/ISB/Task%203/scrapr_v3.ipynb#X22sZmlsZQ%3D%3D?line=0'>1</a>\\u001b[0m \\u001b[39mfor\\u001b[39;00m i \\u001b[39min\\u001b[39;00m \\u001b[39mrange\\u001b[39m(\\u001b[39mlen\\u001b[39m(all_nfts)):\\n\\u001b[0;32m      <a href='vscode-notebook-cell:/e%3A/Data%20Science%20Competetions/ISB/Task%203/scrapr_v3.ipynb#X22sZmlsZQ%3D%3D?line=1'>2</a>\\u001b[0m     nft \\u001b[39m=\\u001b[39m all_nfts[i]\\n\\u001b[1;32m----> <a href='vscode-notebook-cell:/e%3A/Data%20Science%20Competetions/ISB/Task%203/scrapr_v3.ipynb#X22sZmlsZQ%3D%3D?line=2'>3</a>\\u001b[0m     \\u001b[39mprint\\u001b[39m(nft\\u001b[39m.\\u001b[39;49mjson)\\n\\u001b[0;32m      <a href='vscode-notebook-cell:/e%3A/Data%20Science%20Competetions/ISB/Task%203/scrapr_v3.ipynb#X22sZmlsZQ%3D%3D?line=3'>4</a>\\u001b[0m     \\u001b[39mprint\\u001b[39m(nft\\u001b[39m.\\u001b[39mfind_element(by\\u001b[39m=\\u001b[39mBy\\u001b[39m.\\u001b[39mXPATH,value\\u001b[39m=\\u001b[39m\\u001b[39m\\\"\\u001b[39m\\u001b[39m//*[@class=\\u001b[39m\\u001b[39m'\\u001b[39m\\u001b[39msc-1f719d57-0 hoTuIF sc-29427738-0 ikrGyo AccountLink--ellipsis-overflow\\u001b[39m\\u001b[39m'\\u001b[39m\\u001b[39m]\\u001b[39m\\u001b[39m\\\"\\u001b[39m)\\u001b[39m.\\u001b[39mget_attribute(\\u001b[39m'\\u001b[39m\\u001b[39mhref\\u001b[39m\\u001b[39m'\\u001b[39m))\\n\\u001b[0;32m      <a href='vscode-notebook-cell:/e%3A/Data%20Science%20Competetions/ISB/Task%203/scrapr_v3.ipynb#X22sZmlsZQ%3D%3D?line=4'>5</a>\\u001b[0m     \\u001b[39mprint\\u001b[39m(\\u001b[39m\\\"\\u001b[39m\\u001b[39m-------------------------\\u001b[39m\\u001b[39m\\\"\\u001b[39m)\\n\\n\\u001b[1;31mAttributeError\\u001b[0m: 'WebElement' object has no attribute 'json'\"\n}",
				"mimeType": "application/vnd.code.notebook.error"
			}
		]
	},
	"cells": [
		{
			"cell_type": "code",
			"execution_count": 288,
			"metadata": {},
			"outputs": [],
			"source": [
				"from selenium import webdriver\n",
				"from selenium.webdriver.chrome.service import Service\n",
				"from webdriver_manager.chrome import ChromeDriverManager\n",
				"from selenium.webdriver.common.by import By\n",
				"from selenium.webdriver.common.keys import Keys\n",
				"from selenium.webdriver.common.action_chains import ActionChains\n",
				"from selenium.common.exceptions import *\n",
				"import time\n",
				"import pandas as pd\n",
				"from tqdm import tqdm\n",
				"import concurrent.futures\n",
				"import numpy as np\n",
				"from selenium.webdriver.support.ui import WebDriverWait\n",
				"from selenium.webdriver.support import expected_conditions as EC"
			]
		},
		{
			"cell_type": "code",
			"execution_count": 289,
			"metadata": {},
			"outputs": [],
			"source": [
				"# Setting up the web-browser\n",
				"\n",
				"options = webdriver.ChromeOptions()\n",
				"options.add_experimental_option('excludeSwitches', ['enable-logging'])\n",
				"\n",
				"driver = webdriver.Chrome(service=Service(\n",
				"    ChromeDriverManager().install()), options=options)\n",
				"\n",
				"action = ActionChains(driver)"
			]
		},
		{
			"cell_type": "code",
			"execution_count": 290,
			"metadata": {},
			"outputs": [],
			"source": [
				"# Homepage url for NFT Collections\n",
				"\n",
				"homepage_url = 'https://opensea.io/collection/boredapeyachtclub/activity?search[eventTypes][0]=OFFER_ENTERED'"
			]
		},
		{
			"cell_type": "code",
			"execution_count": 291,
			"metadata": {},
			"outputs": [],
			"source": [
				"df = pd.DataFrame(columns=['nft_id','price_crypto','price_usd','quantity','offer_from_name','offer_from_link','time_uploaded'])"
			]
		},
		{
			"cell_type": "code",
			"execution_count": 292,
			"metadata": {},
			"outputs": [
				{
					"data": {
						"text/html": [
							"<div>\n",
							"<style scoped>\n",
							"    .dataframe tbody tr th:only-of-type {\n",
							"        vertical-align: middle;\n",
							"    }\n",
							"\n",
							"    .dataframe tbody tr th {\n",
							"        vertical-align: top;\n",
							"    }\n",
							"\n",
							"    .dataframe thead th {\n",
							"        text-align: right;\n",
							"    }\n",
							"</style>\n",
							"<table border=\"1\" class=\"dataframe\">\n",
							"  <thead>\n",
							"    <tr style=\"text-align: right;\">\n",
							"      <th></th>\n",
							"      <th>nft_id</th>\n",
							"      <th>price_crypto</th>\n",
							"      <th>price_usd</th>\n",
							"      <th>quantity</th>\n",
							"      <th>offer_from_name</th>\n",
							"      <th>offer_from_link</th>\n",
							"      <th>time_uploaded</th>\n",
							"    </tr>\n",
							"  </thead>\n",
							"  <tbody>\n",
							"  </tbody>\n",
							"</table>\n",
							"</div>"
						],
						"text/plain": [
							"Empty DataFrame\n",
							"Columns: [nft_id, price_crypto, price_usd, quantity, offer_from_name, offer_from_link, time_uploaded]\n",
							"Index: []"
						]
					},
					"execution_count": 292,
					"metadata": {},
					"output_type": "execute_result"
				}
			],
			"source": [
				"df"
			]
		},
		{
			"cell_type": "code",
			"execution_count": 293,
			"metadata": {},
			"outputs": [],
			"source": [
				"# Scroll up to get data if StaleElement error\n",
				"\n",
				"def scroll_up_data(web_elem,hover_elem,df):\n",
				"\n",
				"    posi = len(df)+1\n",
				"    driver.execute_script('window.scrollTo(document.body.scrollHeight,document.body.scrollHeight-2);')\n",
				"    time.sleep(3)\n",
				"\n",
				"    try:\n",
				"        items_list = web_elem.text.split('\\n')\n",
				"        item_link = web_elem.find_element(by=By.XPATH,value=\"//*[@class='sc-1f719d57-0 hoTuIF sc-29427738-0 ikrGyo AccountLink--ellipsis-overflow']\").get_attribute('href')\n",
				"        action.move_to_element(hover_elem).click().perform()\n",
				"        abs_time = driver.find_element(by=By.XPATH,value=\"//*[@class='sc-29427738-0 sc-f95e0497-0 ikrGyo frmfzd']/div\").text\n",
				"        \n",
				"        #Enter the extracted data into dataframe\n",
				"        df.loc[posi] = [items_list[1],items_list[3],items_list[4],items_list[6],items_list[7],item_link,abs_time]\n",
				"        \n",
				"    except StaleElementReferenceException:\n",
				"        scroll_down_data(web_elem,hover_elem,df)\n",
				"\n",
				"\n",
				"def scroll_down_data(web_elem,hover_elem,df):\n",
				"    \n",
				"    posi = len(df)+1\n",
				"    driver.execute_script('window.scrollTo(document.body.scrollHeight,document.body.scrollHeight+4);')\n",
				"    time.sleep(3)\n",
				"\n",
				"    try:\n",
				"        items_list = web_elem.text.split('\\n')\n",
				"        item_link = web_elem.find_element(by=By.XPATH,value=\"//*[@class='sc-1f719d57-0 hoTuIF sc-29427738-0 ikrGyo AccountLink--ellipsis-overflow']\").get_attribute('href')\n",
				"        action.move_to_element(hover_elem).click().perform()\n",
				"        abs_time = driver.find_element(by=By.XPATH,value=\"//*[@class='sc-29427738-0 sc-f95e0497-0 ikrGyo frmfzd']/div\").text\n",
				"        \n",
				"        #Enter the extracted data into dataframe\n",
				"        df.loc[posi] = [items_list[1],items_list[3],items_list[4],items_list[6],items_list[7],item_link,abs_time]\n",
				"        \n",
				"    except StaleElementReferenceException:\n",
				"        pass\n",
				"    "
			]
		},
		{
			"cell_type": "code",
			"execution_count": 294,
			"metadata": {},
			"outputs": [],
			"source": [
				"def store_data(all_items,hover_buttons,df):\n",
				"\n",
				"    pos= len(df)\n",
				"    time.sleep(3)\n",
				"\n",
				"    for i in range(len(all_items)):\n",
				"        try:\n",
				"            items_list = all_items[i].text.split('\\n')\n",
				"            item_link = all_items[i].find_element(by=By.XPATH,value=\"//*[@class='sc-1f719d57-0 hoTuIF sc-29427738-0 ikrGyo AccountLink--ellipsis-overflow']\").get_attribute('href')\n",
				"            action.move_to_element(hover_button[i]).click().perform()\n",
				"            abs_time = driver.find_element(by=By.XPATH,value=\"//*[@class='sc-29427738-0 sc-f95e0497-0 ikrGyo frmfzd']/div\").text\n",
				"            \n",
				"            #Enter the extracted data into dataframe\n",
				"            df.loc[pos+i] = [items_list[1],items_list[3],items_list[4],items_list[6],items_list[7],item_link,abs_time]\n",
				"\n",
				"        except StaleElementReferenceException:\n",
				"            scroll_up_data(all_items[i],hover_button[i])\n",
				"        \n",
				"    "
			]
		},
		{
			"cell_type": "code",
			"execution_count": 295,
			"metadata": {},
			"outputs": [],
			"source": [
				"# Getting the webpage till bottom\n",
				"def get_webpage(url):\n",
				"\n",
				"    driver.maximize_window()\n",
				"    n = 0\n",
				"    driver.implicitly_wait(3)\n",
				"    # Wait for the page to load\n",
				"    wait = WebDriverWait(driver, 4)\n",
				"    height = driver.execute_script('return document.body.scrollHeight;')\n",
				"\n",
				"    all_items= driver.find_elements(by=By.XPATH,value=\"//*[@role='listitem']\")\n",
				"    hover_button= driver.find_elements(by=By.XPATH,value=\"//*[@class='sc-29427738-0 sc-f95e0497-0 ikrGyo frmfzd']\")\n",
				"\n",
				"    store_data(all_items,hover_button,df)\n",
				"\n",
				"    while n<10:\n",
				"        #Scroll down\n",
				"        driver.execute_script('window.scrollTo(0,document.body.scrollHeight);')\n",
				"        #Scrape items on current page\n",
				"\n",
				"        all_items= driver.find_elements(by=By.XPATH,value=\"//*[@role='sc-29427738-0 sc-4e15afd9-0 dVNeWL kcFcYa']\")\n",
				"        hover_button= driver.find_elements(by=By.XPATH,value=\"//*[@class='sc-29427738-0 sc-f95e0497-0 ikrGyo frmfzd']\")\n",
				"        time.sleep(3)\n",
				"\n",
				"        new_height = driver.execute_script('return document.body.scrollHeight;')\n",
				"        \n",
				"        if height == new_height:\n",
				"            break\n",
				"        height = new_height\n",
				"        \n",
				"        #Try to extract elements\n",
				"        \n",
				"        store_data(all_items,hover_button,df)\n",
				"\n",
				"        n = n+1"
			]
		},
		{
			"cell_type": "code",
			"execution_count": 296,
			"metadata": {},
			"outputs": [],
			"source": [
				"driver.get(homepage_url)"
			]
		},
		{
			"cell_type": "code",
			"execution_count": 297,
			"metadata": {},
			"outputs": [
				{
					"name": "stdout",
					"output_type": "stream",
					"text": [
						"Hover but:  [<selenium.webdriver.remote.webelement.WebElement (session=\"8e179cf926189e6d90c71835bc1d1cf0\", element=\"9e154e76-17d0-4d8c-9792-7501728a07f2\")>, <selenium.webdriver.remote.webelement.WebElement (session=\"8e179cf926189e6d90c71835bc1d1cf0\", element=\"f9562f08-073a-4f7a-a057-5e6f03040488\")>, <selenium.webdriver.remote.webelement.WebElement (session=\"8e179cf926189e6d90c71835bc1d1cf0\", element=\"e6e89150-9e52-4682-83d6-8bf781bc50a0\")>, <selenium.webdriver.remote.webelement.WebElement (session=\"8e179cf926189e6d90c71835bc1d1cf0\", element=\"292edeaa-58c2-4f1b-a965-9aceaf8e3b52\")>, <selenium.webdriver.remote.webelement.WebElement (session=\"8e179cf926189e6d90c71835bc1d1cf0\", element=\"79d318f0-3ccb-4188-b219-f17429c2af71\")>, <selenium.webdriver.remote.webelement.WebElement (session=\"8e179cf926189e6d90c71835bc1d1cf0\", element=\"265e32a2-6eb6-46db-9d43-95a81824502a\")>, <selenium.webdriver.remote.webelement.WebElement (session=\"8e179cf926189e6d90c71835bc1d1cf0\", element=\"5a8ef329-62d3-44ab-b0d5-3df52391bacc\")>, <selenium.webdriver.remote.webelement.WebElement (session=\"8e179cf926189e6d90c71835bc1d1cf0\", element=\"7245f919-9ff1-46d0-aa72-ba6e9148c12e\")>, <selenium.webdriver.remote.webelement.WebElement (session=\"8e179cf926189e6d90c71835bc1d1cf0\", element=\"040a8829-c40b-4dcc-960b-602d04989083\")>, <selenium.webdriver.remote.webelement.WebElement (session=\"8e179cf926189e6d90c71835bc1d1cf0\", element=\"cb94278f-8957-4840-93c4-44fd76a7b6c0\")>, <selenium.webdriver.remote.webelement.WebElement (session=\"8e179cf926189e6d90c71835bc1d1cf0\", element=\"566ed339-afc3-4f2b-93b2-555af4edb93c\")>, <selenium.webdriver.remote.webelement.WebElement (session=\"8e179cf926189e6d90c71835bc1d1cf0\", element=\"98125a59-922a-4911-8364-57d50f076691\")>, <selenium.webdriver.remote.webelement.WebElement (session=\"8e179cf926189e6d90c71835bc1d1cf0\", element=\"e0c19881-10aa-493e-ba66-ce1d23674bc7\")>, <selenium.webdriver.remote.webelement.WebElement (session=\"8e179cf926189e6d90c71835bc1d1cf0\", element=\"c7cb52ee-7048-4236-97a9-d1fec8ba861d\")>]\n"
					]
				}
			],
			"source": [
				"get_data(homepage_url)"
			]
		},
		{
			"cell_type": "code",
			"execution_count": 298,
			"metadata": {},
			"outputs": [
				{
					"data": {
						"text/html": [
							"<div>\n",
							"<style scoped>\n",
							"    .dataframe tbody tr th:only-of-type {\n",
							"        vertical-align: middle;\n",
							"    }\n",
							"\n",
							"    .dataframe tbody tr th {\n",
							"        vertical-align: top;\n",
							"    }\n",
							"\n",
							"    .dataframe thead th {\n",
							"        text-align: right;\n",
							"    }\n",
							"</style>\n",
							"<table border=\"1\" class=\"dataframe\">\n",
							"  <thead>\n",
							"    <tr style=\"text-align: right;\">\n",
							"      <th></th>\n",
							"      <th>nft_id</th>\n",
							"      <th>price_crypto</th>\n",
							"      <th>price_usd</th>\n",
							"      <th>quantity</th>\n",
							"      <th>offer_from_name</th>\n",
							"      <th>offer_from_link</th>\n",
							"      <th>time_uploaded</th>\n",
							"    </tr>\n",
							"  </thead>\n",
							"  <tbody>\n",
							"    <tr>\n",
							"      <th>0</th>\n",
							"      <td>829</td>\n",
							"      <td>61.0777 WETH</td>\n",
							"      <td>$111,303.73</td>\n",
							"      <td>1</td>\n",
							"      <td>NFTButlerGPT</td>\n",
							"      <td>https://opensea.io/NFTButlerGPT</td>\n",
							"      <td>March 30, 2023 at 11:24 AM</td>\n",
							"    </tr>\n",
							"    <tr>\n",
							"      <th>1</th>\n",
							"      <td>2717</td>\n",
							"      <td>61.0777 WETH</td>\n",
							"      <td>$111,303.73</td>\n",
							"      <td>1</td>\n",
							"      <td>NFTButlerGPT</td>\n",
							"      <td>https://opensea.io/NFTButlerGPT</td>\n",
							"      <td>March 30, 2023 at 11:24 AM</td>\n",
							"    </tr>\n",
							"    <tr>\n",
							"      <th>2</th>\n",
							"      <td>3718</td>\n",
							"      <td>61.0777 WETH</td>\n",
							"      <td>$111,303.73</td>\n",
							"      <td>1</td>\n",
							"      <td>NFTButlerGPT</td>\n",
							"      <td>https://opensea.io/NFTButlerGPT</td>\n",
							"      <td>March 30, 2023 at 11:23 AM</td>\n",
							"    </tr>\n",
							"    <tr>\n",
							"      <th>3</th>\n",
							"      <td>1668</td>\n",
							"      <td>61.0777 WETH</td>\n",
							"      <td>$111,303.73</td>\n",
							"      <td>1</td>\n",
							"      <td>NFTButlerGPT</td>\n",
							"      <td>https://opensea.io/NFTButlerGPT</td>\n",
							"      <td>March 30, 2023 at 11:23 AM</td>\n",
							"    </tr>\n",
							"    <tr>\n",
							"      <th>4</th>\n",
							"      <td>6362</td>\n",
							"      <td>61.0777 WETH</td>\n",
							"      <td>$111,303.73</td>\n",
							"      <td>1</td>\n",
							"      <td>NFTButlerGPT</td>\n",
							"      <td>https://opensea.io/NFTButlerGPT</td>\n",
							"      <td>March 30, 2023 at 11:23 AM</td>\n",
							"    </tr>\n",
							"    <tr>\n",
							"      <th>5</th>\n",
							"      <td>1486</td>\n",
							"      <td>61.0777 WETH</td>\n",
							"      <td>$111,303.73</td>\n",
							"      <td>1</td>\n",
							"      <td>NFTButlerGPT</td>\n",
							"      <td>https://opensea.io/NFTButlerGPT</td>\n",
							"      <td>March 30, 2023 at 11:24 AM</td>\n",
							"    </tr>\n",
							"    <tr>\n",
							"      <th>6</th>\n",
							"      <td>461</td>\n",
							"      <td>61.0777 WETH</td>\n",
							"      <td>$111,303.73</td>\n",
							"      <td>1</td>\n",
							"      <td>NFTButlerGPT</td>\n",
							"      <td>https://opensea.io/NFTButlerGPT</td>\n",
							"      <td>March 30, 2023 at 11:24 AM</td>\n",
							"    </tr>\n",
							"    <tr>\n",
							"      <th>7</th>\n",
							"      <td>3338</td>\n",
							"      <td>61.0777 WETH</td>\n",
							"      <td>$111,303.73</td>\n",
							"      <td>1</td>\n",
							"      <td>NFTButlerGPT</td>\n",
							"      <td>https://opensea.io/NFTButlerGPT</td>\n",
							"      <td>March 30, 2023 at 11:24 AM</td>\n",
							"    </tr>\n",
							"    <tr>\n",
							"      <th>8</th>\n",
							"      <td>2998</td>\n",
							"      <td>61.0777 WETH</td>\n",
							"      <td>$111,303.73</td>\n",
							"      <td>1</td>\n",
							"      <td>NFTButlerGPT</td>\n",
							"      <td>https://opensea.io/NFTButlerGPT</td>\n",
							"      <td>March 30, 2023 at 11:26 AM</td>\n",
							"    </tr>\n",
							"  </tbody>\n",
							"</table>\n",
							"</div>"
						],
						"text/plain": [
							"  nft_id  price_crypto    price_usd quantity offer_from_name  \\\n",
							"0    829  61.0777 WETH  $111,303.73        1    NFTButlerGPT   \n",
							"1   2717  61.0777 WETH  $111,303.73        1    NFTButlerGPT   \n",
							"2   3718  61.0777 WETH  $111,303.73        1    NFTButlerGPT   \n",
							"3   1668  61.0777 WETH  $111,303.73        1    NFTButlerGPT   \n",
							"4   6362  61.0777 WETH  $111,303.73        1    NFTButlerGPT   \n",
							"5   1486  61.0777 WETH  $111,303.73        1    NFTButlerGPT   \n",
							"6    461  61.0777 WETH  $111,303.73        1    NFTButlerGPT   \n",
							"7   3338  61.0777 WETH  $111,303.73        1    NFTButlerGPT   \n",
							"8   2998  61.0777 WETH  $111,303.73        1    NFTButlerGPT   \n",
							"\n",
							"                   offer_from_link               time_uploaded  \n",
							"0  https://opensea.io/NFTButlerGPT  March 30, 2023 at 11:24 AM  \n",
							"1  https://opensea.io/NFTButlerGPT  March 30, 2023 at 11:24 AM  \n",
							"2  https://opensea.io/NFTButlerGPT  March 30, 2023 at 11:23 AM  \n",
							"3  https://opensea.io/NFTButlerGPT  March 30, 2023 at 11:23 AM  \n",
							"4  https://opensea.io/NFTButlerGPT  March 30, 2023 at 11:23 AM  \n",
							"5  https://opensea.io/NFTButlerGPT  March 30, 2023 at 11:24 AM  \n",
							"6  https://opensea.io/NFTButlerGPT  March 30, 2023 at 11:24 AM  \n",
							"7  https://opensea.io/NFTButlerGPT  March 30, 2023 at 11:24 AM  \n",
							"8  https://opensea.io/NFTButlerGPT  March 30, 2023 at 11:26 AM  "
						]
					},
					"execution_count": 298,
					"metadata": {},
					"output_type": "execute_result"
				}
			],
			"source": [
				"df"
			]
		},
		{
			"cell_type": "code",
			"execution_count": 269,
			"metadata": {},
			"outputs": [],
			"source": [
				"df.to_csv('data_opensea.csv',index=False)"
			]
		},
		{
			"cell_type": "code",
			"execution_count": null,
			"metadata": {},
			"outputs": [],
			"source": []
		}
	],
	"metadata": {
		"kernelspec": {
			"display_name": "Python 3",
			"language": "python",
			"name": "python3"
		},
		"language_info": {
			"codemirror_mode": {
				"name": "ipython",
				"version": 3
			},
			"file_extension": ".py",
			"mimetype": "text/x-python",
			"name": "python",
			"nbconvert_exporter": "python",
			"pygments_lexer": "ipython3",
			"version": "3.10.2"
		},
		"orig_nbformat": 4
	},
	"nbformat": 4,
	"nbformat_minor": 2
}
